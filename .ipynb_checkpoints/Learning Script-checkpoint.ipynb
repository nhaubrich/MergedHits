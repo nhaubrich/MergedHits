{
 "cells": [
  {
   "cell_type": "code",
   "execution_count": 26,
   "metadata": {
    "scrolled": true
   },
   "outputs": [
    {
     "name": "stdout",
     "output_type": "stream",
     "text": [
      "\n",
      "File: /uscms_data/d3/bbonham/TrackerProject/Output_of_Postprocess/AllHits/AbsoluteCharge/output_final.h5\n",
      "df size: 1278.0 MB\n"
     ]
    }
   ],
   "source": [
    "import pandas as pd\n",
    "\n",
    "fileNumber=5\n",
    "entriesStop=None\n",
    "\n",
    "filenames = [\"/uscms_data/d3/bbonham/TrackerProject/Output_of_Postprocess/SharedHits/NormalizedCharge/output_final.h5\",\n",
    "             \"/uscms_data/d3/bbonham/TrackerProject/Output_of_Postprocess/SharedHits/AbsoluteCharge/output_final.h5\",\n",
    "             \"/uscms_data/d3/bbonham/TrackerProject/Output_of_Postprocess/Shared100NonShared/NormalizedCharge/output_final.h5\",\n",
    "             \"/uscms_data/d3/bbonham/TrackerProject/Output_of_Postprocess/Shared100NonShared/AbsoluteCharge/output_final.h5\",\n",
    "             \"/uscms_data/d3/bbonham/TrackerProject/Output_of_Postprocess/AllHits/NormalizedCharge/output_final.h5\",\n",
    "             \"/uscms_data/d3/bbonham/TrackerProject/Output_of_Postprocess/AllHits/AbsoluteCharge/output_final.h5\"]\n",
    "filename = filenames[fileNumber]\n",
    "\n",
    "df = pd.read_hdf(filename, key='df', mode='r', start=0, stop=entriesStop)\n",
    "print '\\nFile: '+filename\n",
    "print 'df size:',round(df.memory_usage().sum()/(1024.**2),1),\"MB\"\n",
    "\n",
    "# Scale down the totalADCcount\n",
    "df[['totalADCcount']] = df[['totalADCcount']]/10000"
   ]
  },
  {
   "cell_type": "code",
   "execution_count": 42,
   "metadata": {},
   "outputs": [
    {
     "name": "stdout",
     "output_type": "stream",
     "text": [
      "Entries: 411064\n",
      "Duplicates: 0\n",
      "Percent: 0.0\n"
     ]
    }
   ],
   "source": [
    "duplicateRow = df[df.duplicated()]\n",
    "print 'Entries:',len(df)\n",
    "print 'Duplicates:',len(duplicateRow)\n",
    "print 'Percent:',100.*len(duplicateRow)/len(df)"
   ]
  },
  {
   "cell_type": "code",
   "execution_count": null,
   "metadata": {},
   "outputs": [],
   "source": [
    "duplicateRow = df[df.duplicated()]\n",
    "print 'Entries:',len(df)\n",
    "print 'Duplicates:',len(duplicateRow)\n",
    "print 'Percent:',100.*len(duplicateRow)/len(df)"
   ]
  },
  {
   "cell_type": "code",
   "execution_count": null,
   "metadata": {},
   "outputs": [],
   "source": []
  }
 ],
 "metadata": {
  "kernelspec": {
   "display_name": "Python 2",
   "language": "python",
   "name": "python2"
  },
  "language_info": {
   "codemirror_mode": {
    "name": "ipython",
    "version": 2
   },
   "file_extension": ".py",
   "mimetype": "text/x-python",
   "name": "python",
   "nbconvert_exporter": "python",
   "pygments_lexer": "ipython2",
   "version": "2.7.15+"
  }
 },
 "nbformat": 4,
 "nbformat_minor": 2
}
