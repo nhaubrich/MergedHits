{
 "cells": [
  {
   "cell_type": "markdown",
   "metadata": {},
   "source": [
    "### Imports"
   ]
  },
  {
   "cell_type": "code",
   "execution_count": 2,
   "metadata": {},
   "outputs": [
    {
     "name": "stdout",
     "output_type": "stream",
     "text": [
      "\n",
      "File: /eos/user/b/bbonham/output_of_postprocess/AllHits/AbsoluteCharge/output_final.h5\n",
      "df size: 1278.0 MB\n"
     ]
    }
   ],
   "source": [
    "import pandas as pd\n",
    "\n",
    "fileNumber=5\n",
    "entriesStop=None\n",
    "\n",
    "filenames = [\"/eos/user/b/bbonham/output_of_postprocess/SharedHits/NormalizedCharge/output_final.h5\",\n",
    "             \"/eos/user/b/bbonham/output_of_postprocess/SharedHits/AbsoluteCharge/output_final.h5\",\n",
    "             \"/eos/user/b/bbonham/output_of_postprocess/Shared100NonShared/NormalizedCharge/output_final.h5\",\n",
    "             \"/eos/user/b/bbonham/output_of_postprocess/Shared100NonShared/AbsoluteCharge/output_final.h5\",\n",
    "             \"/eos/user/b/bbonham/output_of_postprocess/AllHits/NormalizedCharge/output_final.h5\",\n",
    "             \"/eos/user/b/bbonham/output_of_postprocess/AllHits/AbsoluteCharge/output_final.h5\"]\n",
    "filename = filenames[fileNumber]\n",
    "\n",
    "df = pd.read_hdf(filename, key='df', mode='r', start=0, stop=entriesStop)\n",
    "print '\\nFile: '+filename\n",
    "print 'df size:',round(df.memory_usage().sum()/(1024.**2),1),\"MB\""
   ]
  },
  {
   "cell_type": "markdown",
   "metadata": {},
   "source": [
    "### About 2% of entries have the same trackPt"
   ]
  },
  {
   "cell_type": "code",
   "execution_count": 13,
   "metadata": {},
   "outputs": [
    {
     "name": "stdout",
     "output_type": "stream",
     "text": [
      "Entries: 411064\n",
      "Duplicates: 8503\n",
      "Percent: 2.06853434015\n"
     ]
    }
   ],
   "source": [
    "duplicates = df[df.duplicated(['trackPt'])]\n",
    "print 'Entries:',len(df)\n",
    "print 'Duplicates:',len(duplicates)\n",
    "print 'Percent:',100.*len(duplicates)/len(df)"
   ]
  },
  {
   "cell_type": "markdown",
   "metadata": {},
   "source": [
    "### About 2% of entries have the same pt, eta, etc. \n",
    "### The only varaible missing here is 'isSharedHit'"
   ]
  },
  {
   "cell_type": "code",
   "execution_count": 14,
   "metadata": {},
   "outputs": [
    {
     "name": "stdout",
     "output_type": "stream",
     "text": [
      "Entries: 411064\n",
      "Duplicates: 8473\n",
      "Percent: 2.06123620653\n"
     ]
    }
   ],
   "source": [
    "duplicates = df[df.duplicated(['trackPt','trackEta','trackPhi','nUniqueSimTracksInSharedHit','GenDeltaR','totalADCcount'])]\n",
    "print 'Entries:',len(df)\n",
    "print 'Duplicates:',len(duplicates)\n",
    "print 'Percent:',100.*len(duplicates)/len(df)"
   ]
  },
  {
   "cell_type": "markdown",
   "metadata": {},
   "source": [
    "### Below 'isSharedHit' is now included. \n",
    "### With 'isSharedHit' included there are no duplicates.  "
   ]
  },
  {
   "cell_type": "code",
   "execution_count": 15,
   "metadata": {},
   "outputs": [
    {
     "name": "stdout",
     "output_type": "stream",
     "text": [
      "Entries: 411064\n",
      "Duplicates: 0\n",
      "Percent: 0.0\n"
     ]
    }
   ],
   "source": [
    "duplicates = df[df.duplicated(['isSharedHit','trackPt','trackEta','trackPhi','nUniqueSimTracksInSharedHit','GenDeltaR','totalADCcount'])]\n",
    "print 'Entries:',len(df)\n",
    "print 'Duplicates:',len(duplicates)\n",
    "print 'Percent:',100.*len(duplicates)/len(df)"
   ]
  },
  {
   "cell_type": "markdown",
   "metadata": {},
   "source": [
    "## Below I consider gen level information"
   ]
  },
  {
   "cell_type": "code",
   "execution_count": 4,
   "metadata": {},
   "outputs": [
    {
     "ename": "KeyError",
     "evalue": "Index([u'GenProtonPt'], dtype='object')",
     "output_type": "error",
     "traceback": [
      "\u001b[0;31m\u001b[0m",
      "\u001b[0;31mKeyError\u001b[0mTraceback (most recent call last)",
      "\u001b[0;32m<ipython-input-4-8c7bcaf76c22>\u001b[0m in \u001b[0;36m<module>\u001b[0;34m()\u001b[0m\n\u001b[0;32m----> 1\u001b[0;31m \u001b[0mduplicates\u001b[0m \u001b[0;34m=\u001b[0m \u001b[0mdf\u001b[0m\u001b[0;34m[\u001b[0m\u001b[0mdf\u001b[0m\u001b[0;34m.\u001b[0m\u001b[0mduplicated\u001b[0m\u001b[0;34m(\u001b[0m\u001b[0;34m[\u001b[0m\u001b[0;34m'GenProtonPt'\u001b[0m\u001b[0;34m]\u001b[0m\u001b[0;34m)\u001b[0m\u001b[0;34m]\u001b[0m\u001b[0;34m\u001b[0m\u001b[0m\n\u001b[0m\u001b[1;32m      2\u001b[0m \u001b[0;32mprint\u001b[0m \u001b[0;34m'Entries:'\u001b[0m\u001b[0;34m,\u001b[0m\u001b[0mlen\u001b[0m\u001b[0;34m(\u001b[0m\u001b[0mdf\u001b[0m\u001b[0;34m)\u001b[0m\u001b[0;34m\u001b[0m\u001b[0m\n\u001b[1;32m      3\u001b[0m \u001b[0;32mprint\u001b[0m \u001b[0;34m'Duplicates:'\u001b[0m\u001b[0;34m,\u001b[0m\u001b[0mlen\u001b[0m\u001b[0;34m(\u001b[0m\u001b[0mduplicates\u001b[0m\u001b[0;34m)\u001b[0m\u001b[0;34m\u001b[0m\u001b[0m\n\u001b[1;32m      4\u001b[0m \u001b[0;32mprint\u001b[0m \u001b[0;34m'Percent:'\u001b[0m\u001b[0;34m,\u001b[0m\u001b[0;36m100.\u001b[0m\u001b[0;34m*\u001b[0m\u001b[0mlen\u001b[0m\u001b[0;34m(\u001b[0m\u001b[0mduplicates\u001b[0m\u001b[0;34m)\u001b[0m\u001b[0;34m/\u001b[0m\u001b[0mlen\u001b[0m\u001b[0;34m(\u001b[0m\u001b[0mdf\u001b[0m\u001b[0;34m)\u001b[0m\u001b[0;34m\u001b[0m\u001b[0m\n",
      "\u001b[0;32m/cvmfs/sft.cern.ch/lcg/views/LCG_97a/x86_64-centos7-gcc8-opt/lib/python2.7/site-packages/pandas/core/frame.pyc\u001b[0m in \u001b[0;36mduplicated\u001b[0;34m(self, subset, keep)\u001b[0m\n\u001b[1;32m   4681\u001b[0m         \u001b[0mdiff\u001b[0m \u001b[0;34m=\u001b[0m \u001b[0mIndex\u001b[0m\u001b[0;34m(\u001b[0m\u001b[0msubset\u001b[0m\u001b[0;34m)\u001b[0m\u001b[0;34m.\u001b[0m\u001b[0mdifference\u001b[0m\u001b[0;34m(\u001b[0m\u001b[0mself\u001b[0m\u001b[0;34m.\u001b[0m\u001b[0mcolumns\u001b[0m\u001b[0;34m)\u001b[0m\u001b[0;34m\u001b[0m\u001b[0m\n\u001b[1;32m   4682\u001b[0m         \u001b[0;32mif\u001b[0m \u001b[0;32mnot\u001b[0m \u001b[0mdiff\u001b[0m\u001b[0;34m.\u001b[0m\u001b[0mempty\u001b[0m\u001b[0;34m:\u001b[0m\u001b[0;34m\u001b[0m\u001b[0m\n\u001b[0;32m-> 4683\u001b[0;31m             \u001b[0;32mraise\u001b[0m \u001b[0mKeyError\u001b[0m\u001b[0;34m(\u001b[0m\u001b[0mdiff\u001b[0m\u001b[0;34m)\u001b[0m\u001b[0;34m\u001b[0m\u001b[0m\n\u001b[0m\u001b[1;32m   4684\u001b[0m \u001b[0;34m\u001b[0m\u001b[0m\n\u001b[1;32m   4685\u001b[0m         vals = (col.values for name, col in self.iteritems()\n",
      "\u001b[0;31mKeyError\u001b[0m: Index([u'GenProtonPt'], dtype='object')"
     ]
    }
   ],
   "source": [
    "duplicates = df[df.duplicated(['GenProtonPt'])]\n",
    "print 'Entries:',len(df)\n",
    "print 'Duplicates:',len(duplicates)\n",
    "print 'Percent:',100.*len(duplicates)/len(df)"
   ]
  }
 ],
 "metadata": {
  "kernelspec": {
   "display_name": "Python 2",
   "language": "python",
   "name": "python2"
  },
  "language_info": {
   "codemirror_mode": {
    "name": "ipython",
    "version": 2
   },
   "file_extension": ".py",
   "mimetype": "text/x-python",
   "name": "python",
   "nbconvert_exporter": "python",
   "pygments_lexer": "ipython2",
   "version": "2.7.16"
  }
 },
 "nbformat": 4,
 "nbformat_minor": 4
}
