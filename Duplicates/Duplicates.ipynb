{
 "cells": [
  {
   "cell_type": "markdown",
   "metadata": {},
   "source": [
    "### Preliminaries"
   ]
  },
  {
   "cell_type": "code",
   "execution_count": 21,
   "metadata": {},
   "outputs": [
    {
     "name": "stdout",
     "output_type": "stream",
     "text": [
      "\n",
      "File: /uscms_data/d3/bbonham/TrackerProject/TrackingDstar/LambaAnalyzer/Gen_postprocess/output_final.h5\n",
      "df size: 492.4 MB\n"
     ]
    }
   ],
   "source": [
    "import pandas as pd\n",
    "\n",
    "fileNumber=5\n",
    "entriesStop=None\n",
    "\n",
    "filenames = [\"/uscms_data/d3/bbonham/TrackerProject/Output_of_Postprocess/SharedHits/NormalizedCharge/output_final.h5\",\n",
    "             \"/uscms_data/d3/bbonham/TrackerProject/Output_of_Postprocess/SharedHits/AbsoluteCharge/output_final.h5\",\n",
    "             \"/uscms_data/d3/bbonham/TrackerProject/Output_of_Postprocess/Shared100NonShared/NormalizedCharge/output_final.h5\",\n",
    "             \"/uscms_data/d3/bbonham/TrackerProject/Output_of_Postprocess/Shared100NonShared/AbsoluteCharge/output_final.h5\",\n",
    "             \"/uscms_data/d3/bbonham/TrackerProject/Output_of_Postprocess/AllHits/NormalizedCharge/output_final.h5\",\n",
    "             \"/uscms_data/d3/bbonham/TrackerProject/Output_of_Postprocess/AllHits/AbsoluteCharge/output_final.h5\"]\n",
    "filename = filenames[fileNumber]\n",
    "\n",
    "filename = \"/uscms_data/d3/bbonham/TrackerProject/TrackingDstar/LambaAnalyzer/Gen_postprocess/output_final.h5\"\n",
    "\n",
    "df = pd.read_hdf(filename, key='df', mode='r', start=0, stop=entriesStop)\n",
    "print '\\nFile: '+filename\n",
    "print 'df size:',round(df.memory_usage().sum()/(1024.**2),1),\"MB\""
   ]
  },
  {
   "cell_type": "markdown",
   "metadata": {},
   "source": [
    "### About 2% of entries have the same trackPt"
   ]
  },
  {
   "cell_type": "code",
   "execution_count": 22,
   "metadata": {},
   "outputs": [
    {
     "name": "stdout",
     "output_type": "stream",
     "text": [
      "Entries: 154596\n",
      "Duplicates: 3686\n",
      "Percent: 2.38427902404\n"
     ]
    }
   ],
   "source": [
    "duplicates = df[df.duplicated(['trackPt'])]\n",
    "print 'Entries:',len(df)\n",
    "print 'Duplicates:',len(duplicates)\n",
    "print 'Percent:',100.*len(duplicates)/len(df)"
   ]
  },
  {
   "cell_type": "markdown",
   "metadata": {},
   "source": [
    "### About 2% of entries have the same pt, eta, etc. \n",
    "### The only varaible missing here is 'isSharedHit'"
   ]
  },
  {
   "cell_type": "code",
   "execution_count": 23,
   "metadata": {},
   "outputs": [
    {
     "name": "stdout",
     "output_type": "stream",
     "text": [
      "Entries: 154596\n",
      "Duplicates: 3670\n",
      "Percent: 2.37392946777\n"
     ]
    }
   ],
   "source": [
    "duplicates = df[df.duplicated(['trackPt','trackEta','trackPhi','nUniqueSimTracksInSharedHit','GenDeltaR','totalADCcount'])]\n",
    "print 'Entries:',len(df)\n",
    "print 'Duplicates:',len(duplicates)\n",
    "print 'Percent:',100.*len(duplicates)/len(df)"
   ]
  },
  {
   "cell_type": "markdown",
   "metadata": {},
   "source": [
    "### Below 'isSharedHit' is now included. \n",
    "### With 'isSharedHit' included there are no duplicates.  "
   ]
  },
  {
   "cell_type": "code",
   "execution_count": 24,
   "metadata": {},
   "outputs": [
    {
     "name": "stdout",
     "output_type": "stream",
     "text": [
      "Entries: 154596\n",
      "Duplicates: 0\n",
      "Percent: 0.0\n"
     ]
    }
   ],
   "source": [
    "duplicates = df[df.duplicated(['isSharedHit','trackPt','trackEta','trackPhi','nUniqueSimTracksInSharedHit','GenDeltaR','totalADCcount'])]\n",
    "print 'Entries:',len(df)\n",
    "print 'Duplicates:',len(duplicates)\n",
    "print 'Percent:',100.*len(duplicates)/len(df)"
   ]
  },
  {
   "cell_type": "markdown",
   "metadata": {},
   "source": [
    "### Below I Consider Additional Gen Level Info."
   ]
  },
  {
   "cell_type": "code",
   "execution_count": 20,
   "metadata": {},
   "outputs": [],
   "source": [
    "# Usual Options: \n",
    "'isSharedHit','trackPt','trackEta','trackPhi',\n",
    "'nUniqueSimTracksInSharedHit','GenDeltaR','totalADCcount'\n",
    "\n",
    "# Additional Gen Level Options: \n",
    "'Proton and Pion - Pt, Eta, Phi, Mass, E';"
   ]
  },
  {
   "cell_type": "code",
   "execution_count": 27,
   "metadata": {},
   "outputs": [
    {
     "name": "stdout",
     "output_type": "stream",
     "text": [
      "Entries: 154596\n",
      "Duplicates: 154595\n",
      "Percent: 99.9993531527\n"
     ]
    }
   ],
   "source": [
    "duplicates = df[df.duplicated(['GenProtonPt','GenProtonEta','GenProtonPhi','GenProtonMass','GenProtonE',\n",
    "                               'GenPionPt','GenPionEta','GenPionPhi','GenPionMass','GenPionE'])]\n",
    "print 'Entries:',len(df)\n",
    "print 'Duplicates:',len(duplicates)\n",
    "print 'Percent:',100.*len(duplicates)/len(df)"
   ]
  }
 ],
 "metadata": {
  "kernelspec": {
   "display_name": "Python 2",
   "language": "python",
   "name": "python2"
  },
  "language_info": {
   "codemirror_mode": {
    "name": "ipython",
    "version": 2
   },
   "file_extension": ".py",
   "mimetype": "text/x-python",
   "name": "python",
   "nbconvert_exporter": "python",
   "pygments_lexer": "ipython2",
   "version": "2.7.15+"
  }
 },
 "nbformat": 4,
 "nbformat_minor": 4
}
