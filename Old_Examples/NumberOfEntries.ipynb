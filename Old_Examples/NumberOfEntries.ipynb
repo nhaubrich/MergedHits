{
 "cells": [
  {
   "cell_type": "code",
   "execution_count": 1,
   "metadata": {},
   "outputs": [
    {
     "name": "stderr",
     "output_type": "stream",
     "text": [
      "Using TensorFlow backend.\n"
     ]
    }
   ],
   "source": [
    "# Import Libraries\n",
    "import keras\n",
    "from keras.layers import Dense, Dropout, Activation\n",
    "from keras.callbacks import EarlyStopping\n",
    "from keras.callbacks import ModelCheckpoint\n",
    "import tensorflow as tf\n",
    "import numpy as np\n",
    "from sklearn.metrics import roc_auc_score\n",
    "from sklearn.metrics import roc_curve\n",
    "from sklearn.metrics import auc\n",
    "from IPython.display import FileLink, FileLinks\n",
    "import matplotlib.pyplot as plt\n",
    "import pandas as pd\n",
    "import sys\n",
    "import os\n",
    "import pylab\n",
    "from scipy.stats.stats import pearsonr"
   ]
  },
  {
   "cell_type": "code",
   "execution_count": 2,
   "metadata": {},
   "outputs": [
    {
     "ename": "IOError",
     "evalue": "File /uscms_data/d3/bbonham/TrackingDstar/LambaAnalyzer/output_of_postprocess/AllHits/AbsoluteCharge/output_final_1.h5 does not exist",
     "output_type": "error",
     "traceback": [
      "\u001b[0;31m---------------------------------------------------------------------------\u001b[0m",
      "\u001b[0;31mIOError\u001b[0m                                   Traceback (most recent call last)",
      "\u001b[0;32m<ipython-input-2-9868c0baa673>\u001b[0m in \u001b[0;36m<module>\u001b[0;34m()\u001b[0m\n\u001b[1;32m     12\u001b[0m \u001b[0;34m\u001b[0m\u001b[0m\n\u001b[1;32m     13\u001b[0m \u001b[0;31m# Import the data\u001b[0m\u001b[0;34m\u001b[0m\u001b[0;34m\u001b[0m\u001b[0m\n\u001b[0;32m---> 14\u001b[0;31m \u001b[0mdf\u001b[0m \u001b[0;34m=\u001b[0m \u001b[0mpd\u001b[0m\u001b[0;34m.\u001b[0m\u001b[0mread_hdf\u001b[0m\u001b[0;34m(\u001b[0m\u001b[0;34m\"/uscms_data/d3/bbonham/TrackingDstar/LambaAnalyzer/output_of_postprocess/\"\u001b[0m\u001b[0;34m+\u001b[0m\u001b[0mdatafilename\u001b[0m\u001b[0;34m,\u001b[0m \u001b[0mkey\u001b[0m\u001b[0;34m=\u001b[0m\u001b[0;34m\"df\"\u001b[0m\u001b[0;34m,\u001b[0m \u001b[0mmode\u001b[0m\u001b[0;34m=\u001b[0m\u001b[0;34m'r'\u001b[0m\u001b[0;34m)\u001b[0m\u001b[0;34m\u001b[0m\u001b[0m\n\u001b[0m\u001b[1;32m     15\u001b[0m \u001b[0;34m\u001b[0m\u001b[0m\n\u001b[1;32m     16\u001b[0m \u001b[0;31m# Setup different cuts for different data\u001b[0m\u001b[0;34m\u001b[0m\u001b[0;34m\u001b[0m\u001b[0m\n",
      "\u001b[0;32m/cvmfs/cms.cern.ch/slc7_amd64_gcc820/external/py2-pandas/0.23.4-ikaegh/lib/python2.7/site-packages/pandas/io/pytables.pyc\u001b[0m in \u001b[0;36mread_hdf\u001b[0;34m(path_or_buf, key, mode, **kwargs)\u001b[0m\n\u001b[1;32m    369\u001b[0m         \u001b[0;32mif\u001b[0m \u001b[0;32mnot\u001b[0m \u001b[0mexists\u001b[0m\u001b[0;34m:\u001b[0m\u001b[0;34m\u001b[0m\u001b[0m\n\u001b[1;32m    370\u001b[0m             raise compat.FileNotFoundError(\n\u001b[0;32m--> 371\u001b[0;31m                 'File %s does not exist' % path_or_buf)\n\u001b[0m\u001b[1;32m    372\u001b[0m \u001b[0;34m\u001b[0m\u001b[0m\n\u001b[1;32m    373\u001b[0m         \u001b[0mstore\u001b[0m \u001b[0;34m=\u001b[0m \u001b[0mHDFStore\u001b[0m\u001b[0;34m(\u001b[0m\u001b[0mpath_or_buf\u001b[0m\u001b[0;34m,\u001b[0m \u001b[0mmode\u001b[0m\u001b[0;34m=\u001b[0m\u001b[0mmode\u001b[0m\u001b[0;34m,\u001b[0m \u001b[0;34m**\u001b[0m\u001b[0mkwargs\u001b[0m\u001b[0;34m)\u001b[0m\u001b[0;34m\u001b[0m\u001b[0m\n",
      "\u001b[0;31mIOError\u001b[0m: File /uscms_data/d3/bbonham/TrackingDstar/LambaAnalyzer/output_of_postprocess/AllHits/AbsoluteCharge/output_final_1.h5 does not exist"
     ]
    }
   ],
   "source": [
    "### Choose one file, make cuts, and print the number of samples to train on\n",
    "\n",
    "datafilenames = [\"SharedHits/NormalizedCharge/output_final_1.h5\",\"SharedHits/AbsoluteCharge/output_final_1.h5\",\n",
    "                \"Shared100NonShared/NormalizedCharge/output_final_1.h5\",\"Shared100NonShared/AbsoluteCharge/output_final_1.h5\",\n",
    "                \"AllHits/NormalizedCharge/output_final_1.h5\",\"AllHits/AbsoluteCharge/output_final_1.h5\"]\n",
    "\n",
    "counter = 5\n",
    "\n",
    "datafilename = datafilenames[counter]\n",
    "\n",
    "numentries = 10000\n",
    "\n",
    "# Import the data\n",
    "df = pd.read_hdf(\"/uscms_data/d3/bbonham/TrackingDstar/LambaAnalyzer/output_of_postprocess/\"+datafilename, key=\"df\", mode='r')\n",
    "\n",
    "# Setup different cuts for different data\n",
    "if counter == 0 or counter == 1: # Shared Hits\n",
    "    cuttitle = \"nUniqueSimTracksInSharedHit >= 0\"\n",
    "    stringforcut = \"(df['nUniqueSimTracksInSharedHit']>=0)\"\n",
    "if counter == 2 or counter == 3: # Shared100NonShared Hits\n",
    "    cuttitle = \"nUniqueSimTracksInSharedHit != (0|1)\"\n",
    "    stringforcut = '(df[\"nUniqueSimTracksInSharedHit\"]!=0) & (df[\"nUniqueSimTracksInSharedHit\"]!=1)'\n",
    "if counter == 4 or counter == 5: # All Hits\n",
    "    cuttitle = \"nUniqueSimTracksInSharedHit != (0|1)\"\n",
    "    stringforcut = '(df[\"nUniqueSimTracksInSharedHit\"]!=0) & (df[\"nUniqueSimTracksInSharedHit\"]!=1)'\n",
    "\n",
    "# Print info on dataframe\n",
    "print \"\"\n",
    "print '\\033[1m' + datafilename[:-18] + '\\033[0m' # name printed in bold\n",
    "print df.info()\n",
    "print \"\"\n",
    "\n",
    "## Make Cuts ##\n",
    "\n",
    "# Compute the pixel_number variable\n",
    "pixelColumns = [\"pixel_%i\" % x for x in range(400)]\n",
    "pixels_df = df[pixelColumns].values\n",
    "pixel_number = pixels_df.astype(bool).sum(axis=1)\n",
    "df.insert(0, \"Pixel_number\", pixel_number)\n",
    "\n",
    "# Make final cuts\n",
    "df = df[df[\"Pixel_number\"]>1] # ensure > 1 pixel is involved\n",
    "df = df[(df[\"GenDeltaR\"]<0.1)]\n",
    "df = df[eval(stringforcut)]\n",
    "\n",
    "# Print info on dataframe\n",
    "print '\\033[1m' + datafilename[:-18] + '\\033[0m' # name printed in bold\n",
    "print df.info()\n",
    "print \"\""
   ]
  },
  {
   "cell_type": "code",
   "execution_count": null,
   "metadata": {},
   "outputs": [],
   "source": [
    "print round(df.memory_usage().sum()/1024./1024.,1),\"MB\"\n",
    "print \"train on\",int(round((df.shape[0]/2.)*.9)),\"samples\"\n",
    "print \"validate on\",int(round((df.shape[0]/2.)*.1)),\"samples\""
   ]
  }
 ],
 "metadata": {
  "kernelspec": {
   "display_name": "Python 2",
   "language": "python",
   "name": "python2"
  },
  "language_info": {
   "codemirror_mode": {
    "name": "ipython",
    "version": 2
   },
   "file_extension": ".py",
   "mimetype": "text/x-python",
   "name": "python",
   "nbconvert_exporter": "python",
   "pygments_lexer": "ipython2",
   "version": "2.7.15+"
  }
 },
 "nbformat": 4,
 "nbformat_minor": 2
}
