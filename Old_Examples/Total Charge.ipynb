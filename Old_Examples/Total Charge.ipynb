{
 "cells": [
  {
   "cell_type": "code",
   "execution_count": 4,
   "metadata": {},
   "outputs": [],
   "source": [
    "# Import Libraries\n",
    "import keras\n",
    "from keras.layers import Dense, Dropout, Activation\n",
    "from keras.callbacks import EarlyStopping\n",
    "from keras.callbacks import ModelCheckpoint\n",
    "import tensorflow as tf\n",
    "import numpy as np\n",
    "from sklearn.metrics import roc_auc_score\n",
    "from sklearn.metrics import roc_curve\n",
    "from sklearn.metrics import auc\n",
    "from IPython.display import FileLink, FileLinks\n",
    "import matplotlib.pyplot as plt\n",
    "import pandas as pd\n",
    "import sys\n",
    "import os\n",
    "import pylab\n",
    "from scipy.stats.stats import pearsonr\n",
    "%matplotlib inline"
   ]
  },
  {
   "cell_type": "code",
   "execution_count": 5,
   "metadata": {},
   "outputs": [
    {
     "name": "stdout",
     "output_type": "stream",
     "text": [
      "\n",
      "\u001b[1mAllHits/AbsoluteCharge\u001b[0m\n",
      "<class 'pandas.core.frame.DataFrame'>\n",
      "Int64Index: 100000 entries, 0 to 99999\n",
      "Columns: 408 entries, Pixel_number to pixel_148\n",
      "dtypes: float32(1), float64(405), int32(1), int64(1)\n",
      "memory usage: 313.8 MB\n",
      "None\n",
      "\n",
      "\u001b[1mAllHits/AbsoluteCharge\u001b[0m\n",
      "<class 'pandas.core.frame.DataFrame'>\n",
      "Int64Index: 22919 entries, 4 to 99988\n",
      "Columns: 408 entries, Pixel_number to pixel_148\n",
      "dtypes: float32(1), float64(405), int32(1), int64(1)\n",
      "memory usage: 71.3 MB\n",
      "None\n",
      "\n"
     ]
    }
   ],
   "source": [
    "# Define to_image function\n",
    "pixels = [\"pixel_{0}\".format(i) for i in range(20*20)]\n",
    "def to_image(df):\n",
    "    return  np.expand_dims(np.expand_dims(df[pixels], axis=-1).reshape(-1,20,20), axis=-1)\n",
    "\n",
    "# List data files\n",
    "datafilenames = [\"SharedHits/NormalizedCharge/output_final_1.h5\",\"SharedHits/AbsoluteCharge/output_final_1.h5\",\n",
    "                \"Shared100NonShared/NormalizedCharge/output_final_1.h5\",\"Shared100NonShared/AbsoluteCharge/output_final_1.h5\",\n",
    "                \"AllHits/NormalizedCharge/output_final_1.h5\",\"AllHits/AbsoluteCharge/output_final_1.h5\"]\n",
    "# Import data file\n",
    "counter = 5\n",
    "datafilename = datafilenames[counter]\n",
    "df = pd.read_hdf(\"/uscms_data/d3/bbonham/TrackingDstar/LambaAnalyzer/output_of_postprocess/\"+datafilename, \n",
    "                 key=\"df\", mode='r', start=0, stop=10**5)\n",
    "\n",
    "# Setup different cuts for different files\n",
    "if counter == 0 or counter == 1: # Shared Hits\n",
    "    cuttitle = \"nUniqueSimTracksInSharedHit >= 0\"\n",
    "    stringforcut = \"(df['nUniqueSimTracksInSharedHit']>=0)\"\n",
    "if counter == 2 or counter == 3: # Shared100NonShared Hits\n",
    "    cuttitle = \"nUniqueSimTracksInSharedHit != (0|1)\"\n",
    "    stringforcut = '(df[\"nUniqueSimTracksInSharedHit\"]!=0) & (df[\"nUniqueSimTracksInSharedHit\"]!=1)'\n",
    "if counter == 4 or counter == 5: # All Hits\n",
    "    cuttitle = \"nUniqueSimTracksInSharedHit != (0|1)\"\n",
    "    stringforcut = '(df[\"nUniqueSimTracksInSharedHit\"]!=0) & (df[\"nUniqueSimTracksInSharedHit\"]!=1)'\n",
    "\n",
    "# Copy of data set before making final cuts\n",
    "df_old = df\n",
    "df_old_train=df.sample(frac=0.5)\n",
    "df_old_test=df.drop(df_old_train.index)\n",
    "images_old_train = to_image(df_old_train)\n",
    "images_old_test = to_image(df_old_test)\n",
    "\n",
    "# Compute the pixel_number variable\n",
    "pixelColumns = [\"pixel_%i\" % x for x in range(400)]\n",
    "pixels_df = df[pixelColumns].values\n",
    "pixel_number = pixels_df.astype(bool).sum(axis=1)\n",
    "df.insert(0, \"Pixel_number\", pixel_number)\n",
    "\n",
    "# Print info on dataframe\n",
    "print '\\n\\033[1m' + datafilename[:-18] + '\\033[0m' # file name printed in bold\n",
    "print df.info()\n",
    "\n",
    "# Make final cuts\n",
    "df = df[(df[\"Pixel_number\"]>1) & (df[\"GenDeltaR\"]<0.1) & eval(stringforcut)]\n",
    "\n",
    "# Print info on dataframe\n",
    "print '\\n\\033[1m' + datafilename[:-18] + '\\033[0m' # file name printed in bold\n",
    "print df.info()\n",
    "print \"\""
   ]
  },
  {
   "cell_type": "code",
   "execution_count": 6,
   "metadata": {
    "scrolled": true
   },
   "outputs": [
    {
     "data": {
      "text/html": [
       "<div>\n",
       "<style scoped>\n",
       "    .dataframe tbody tr th:only-of-type {\n",
       "        vertical-align: middle;\n",
       "    }\n",
       "\n",
       "    .dataframe tbody tr th {\n",
       "        vertical-align: top;\n",
       "    }\n",
       "\n",
       "    .dataframe thead th {\n",
       "        text-align: right;\n",
       "    }\n",
       "</style>\n",
       "<table border=\"1\" class=\"dataframe\">\n",
       "  <thead>\n",
       "    <tr style=\"text-align: right;\">\n",
       "      <th></th>\n",
       "      <th>Pixel_number</th>\n",
       "      <th>pixel_78</th>\n",
       "      <th>pixel_79</th>\n",
       "      <th>pixel_76</th>\n",
       "      <th>pixel_77</th>\n",
       "      <th>pixel_74</th>\n",
       "      <th>pixel_75</th>\n",
       "      <th>pixel_72</th>\n",
       "      <th>pixel_73</th>\n",
       "      <th>pixel_70</th>\n",
       "      <th>...</th>\n",
       "      <th>pixel_141</th>\n",
       "      <th>pixel_140</th>\n",
       "      <th>pixel_143</th>\n",
       "      <th>pixel_142</th>\n",
       "      <th>pixel_145</th>\n",
       "      <th>pixel_144</th>\n",
       "      <th>pixel_147</th>\n",
       "      <th>pixel_146</th>\n",
       "      <th>pixel_149</th>\n",
       "      <th>pixel_148</th>\n",
       "    </tr>\n",
       "  </thead>\n",
       "  <tbody>\n",
       "  </tbody>\n",
       "</table>\n",
       "<p>0 rows × 408 columns</p>\n",
       "</div>"
      ],
      "text/plain": [
       "Empty DataFrame\n",
       "Columns: [Pixel_number, pixel_78, pixel_79, pixel_76, pixel_77, pixel_74, pixel_75, pixel_72, pixel_73, pixel_70, pixel_71, pixel_358, pixel_359, pixel_354, pixel_355, pixel_356, pixel_357, pixel_350, pixel_351, pixel_352, pixel_353, pixel_215, pixel_214, pixel_217, pixel_216, pixel_211, totalCharge, pixel_213, pixel_212, pixel_219, pixel_218, pixel_367, pixel_366, pixel_329, pixel_328, pixel_321, pixel_320, pixel_323, pixel_322, pixel_325, pixel_324, pixel_327, pixel_326, pixel_369, pixel_368, pixel_109, pixel_108, pixel_105, pixel_104, pixel_107, pixel_106, pixel_101, pixel_100, pixel_103, pixel_102, pixel_210, pixel_196, pixel_197, pixel_194, pixel_195, pixel_192, pixel_193, pixel_190, pixel_191, pixel_228, pixel_198, pixel_199, pixel_398, pixel_399, trackPt, pixel_390, pixel_391, pixel_392, pixel_393, pixel_394, pixel_395, pixel_396, pixel_397, pixel_89, pixel_88, pixel_87, pixel_86, pixel_85, pixel_84, pixel_83, pixel_82, pixel_81, pixel_80, pixel_222, pixel_223, pixel_365, pixel_364, pixel_248, pixel_249, pixel_361, pixel_360, pixel_363, pixel_362, pixel_242, pixel_243, ...]\n",
       "Index: []\n",
       "\n",
       "[0 rows x 408 columns]"
      ]
     },
     "execution_count": 6,
     "metadata": {},
     "output_type": "execute_result"
    }
   ],
   "source": [
    "df[df[\"totalCharge\"]>0]"
   ]
  }
 ],
 "metadata": {
  "kernelspec": {
   "display_name": "Python 2",
   "language": "python",
   "name": "python2"
  },
  "language_info": {
   "codemirror_mode": {
    "name": "ipython",
    "version": 2
   },
   "file_extension": ".py",
   "mimetype": "text/x-python",
   "name": "python",
   "nbconvert_exporter": "python",
   "pygments_lexer": "ipython2",
   "version": "2.7.15+"
  }
 },
 "nbformat": 4,
 "nbformat_minor": 2
}
