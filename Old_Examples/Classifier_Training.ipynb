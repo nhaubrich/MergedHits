{
 "cells": [
  {
   "cell_type": "code",
   "execution_count": 27,
   "metadata": {},
   "outputs": [],
   "source": [
    "## Preliminaries ##\n",
    "\n",
    "# Import libraries\n",
    "import pylab\n",
    "import keras\n",
    "import tensorflow as tf\n",
    "import matplotlib.pyplot as plt\n",
    "import numpy as np\n",
    "import pandas as pd\n",
    "from keras.layers import Dense, Dropout, Activation\n",
    "from keras.callbacks import EarlyStopping, ModelCheckpoint\n",
    "from keras.models import load_model\n",
    "from sklearn.metrics import roc_auc_score, roc_curve, auc\n",
    "from sklearn.model_selection import train_test_split\n",
    "from scipy.stats.stats import pearsonr\n",
    "%matplotlib inline\n",
    "\n",
    "# Define to_image function\n",
    "pixels = [\"pixel_{0}\".format(i) for i in range(400)] # 20*20 = 400\n",
    "def to_image(df):\n",
    "    return  np.expand_dims(np.expand_dims(df[pixels], axis=-1).reshape(-1,20,20), axis=-1)"
   ]
  },
  {
   "cell_type": "code",
   "execution_count": 28,
   "metadata": {},
   "outputs": [
    {
     "name": "stdout",
     "output_type": "stream",
     "text": [
      "\u001b[1mAllHits/AbsoluteCharge\u001b[0m\n",
      "<class 'pandas.core.frame.DataFrame'>\n",
      "Int64Index: 500 entries, 0 to 499\n",
      "Columns: 407 entries, pixel_78 to pixel_148\n",
      "dtypes: float64(405), int32(1), int64(1)\n",
      "memory usage: 1.6 MB\n",
      "None\n"
     ]
    }
   ],
   "source": [
    "## Import the data ##\n",
    "\n",
    "# List file names\n",
    "# If you want the notebook to run out of the box, keep these names the same and change the pre-path on line 14\n",
    "datafilenames = [\"SharedHits/NormalizedCharge/output_final.h5\",\"SharedHits/AbsoluteCharge/output_final.h5\",\n",
    "                \"Shared100NonShared/NormalizedCharge/output_final.h5\",\"Shared100NonShared/AbsoluteCharge/output_final.h5\",\n",
    "                \"AllHits/NormalizedCharge/output_final.h5\",\"AllHits/AbsoluteCharge/output_final.h5\"]\n",
    "\n",
    "# Select file you want to use\n",
    "filenumber = 5\n",
    "datafilename = datafilenames[filenumber]\n",
    "\n",
    "# Import data\n",
    "df = pd.read_hdf(\"/uscms_data/d3/bbonham/TrackerProject/Output_of_Postprocess/\"+datafilename, \n",
    "                 key=\"df\", mode='r', start=0, stop=500)\n",
    "\n",
    "# Print dataframe info\n",
    "print '\\033[1m' + datafilename[:-16] + '\\033[0m' # name printed in bold\n",
    "print df.info()\n",
    "\n",
    "# Signal Region if you choose a file with only shared hits\n",
    "if filenumber == 0 or filenumber == 1:\n",
    "    signalstring = \"['nUniqueSimTracksInSharedHit']>1\"\n",
    "# Signal Region if you choose a file with shared and nonshared hits\n",
    "if filenumber in [2,3,4,5]:\n",
    "    #signalstring = \"['isSharedHit']==1\"\n",
    "    signalstring = \"['nUniqueSimTracksInSharedHit']>1\""
   ]
  },
  {
   "cell_type": "code",
   "execution_count": 30,
   "metadata": {},
   "outputs": [],
   "source": [
    "## CNN ##\n",
    "# Adding layers to Neural Network: (1) is convolutional,(1.5) 2D layer ,(2) flatten output then feed it to (3) which is a regular neural network.\n",
    "# (4) drops nodes in NN to avoid overfitting, finallly (5) outputs 2 values (prob(notmergedhit), prob(merged hit)), must add up to 1.\n",
    "\n",
    "# Define the network\n",
    "model = keras.models.Sequential()\n",
    "\n",
    "#layer (1) you can play with these layers individually or together until you find the best combination\n",
    "model.add(keras.layers.Conv2D(32, kernel_size=(8,8), padding='same', activation='relu', input_shape=(20,20,1), data_format = \"channels_last\"))\n",
    "model.add(keras.layers.Conv2D(32, kernel_size=(4,4), padding='same', activation='relu')) \n",
    "#model.add(keras.layers.Conv2D(16, kernel_size=(2,2), padding='same', activation='relu'))\n",
    "#model.add(keras.layers.Conv2D(16, kernel_size=(3,3), padding='same', activation='relu'))\n",
    "#model.add(keras.layers.Conv2D(16, kernel_size=(1,1), padding='same', activation='relu'))\n",
    "\n",
    "# layer (X): max pooling 2D, has always been commented out, but you can uncomment it and see what it does\n",
    "#model.add(keras.layers.MaxPooling2D(pool_size=(2, 2), padding='same', data_format=\"channels_last\"))\n",
    "\n",
    "# layer (2)\n",
    "model.add(keras.layers.Flatten(input_shape=(20,20,1))) # 20,20\n",
    "\n",
    "# layer 2.5, dropout 10%\n",
    "model.add(Dropout(0.1))\n",
    "\n",
    "# layer (3)\n",
    "model.add(keras.layers.Dense(100, activation='relu'))\n",
    "\n",
    "#layer (4)\n",
    "model.add(keras.layers.Dense(2, activation='softmax'))\n",
    "                                                    \n",
    "# Layer (5), train the network\n",
    "model.compile(loss='categorical_crossentropy', optimizer=\"adam\", metrics = [\"accuracy\"]) \n",
    "\n",
    "# Number of times you run the CNN\n",
    "epochs_number = 100 \n",
    "\n",
    "# Stop training early to prevent overtraining\n",
    "early_stopping = EarlyStopping(monitor='val_loss', patience=10)"
   ]
  },
  {
   "cell_type": "code",
   "execution_count": 31,
   "metadata": {},
   "outputs": [
    {
     "name": "stdout",
     "output_type": "stream",
     "text": [
      "Test Data Shape:  (250, 407)\n",
      "Train Data Shape:  (250, 407)\n"
     ]
    }
   ],
   "source": [
    "## Set the train-test split ##\n",
    "\n",
    "# Must be the same integer as when you trained the model. Always 10 for me. \n",
    "# Alternatively, you could save df_train and load it, but I chose to do it with a consistent seed instead. \n",
    "train_test_seed = 10 \n",
    "df_train,df_test = train_test_split(df,test_size=0.5,random_state=train_test_seed)\n",
    "images_train = to_image(df_train)\n",
    "images_test = to_image(df_test)\n",
    "\n",
    "# Sanity check: Printout (events, variables). Variables include 400 pixels, and a few others you can find using df.info()\n",
    "print \"Test Data Shape: \",df_test.shape\n",
    "print \"Train Data Shape: \",df_train.shape"
   ]
  },
  {
   "cell_type": "code",
   "execution_count": 32,
   "metadata": {
    "scrolled": false
   },
   "outputs": [
    {
     "name": "stdout",
     "output_type": "stream",
     "text": [
      "Train on 225 samples, validate on 25 samples\n",
      "Epoch 1/100\n",
      "225/225 [==============================] - 1s 5ms/step - loss: 0.3869 - acc: 0.8133 - val_loss: 0.3960 - val_acc: 0.9600\n",
      "Epoch 2/100\n",
      "225/225 [==============================] - 0s 1ms/step - loss: 0.2143 - acc: 0.9556 - val_loss: 0.2819 - val_acc: 0.9600\n",
      "Epoch 3/100\n",
      "225/225 [==============================] - 0s 1ms/step - loss: 0.2627 - acc: 0.9556 - val_loss: 0.2273 - val_acc: 0.9600\n",
      "Epoch 4/100\n",
      "225/225 [==============================] - 0s 1ms/step - loss: 0.1630 - acc: 0.9556 - val_loss: 0.3401 - val_acc: 0.9600\n",
      "Epoch 5/100\n",
      "225/225 [==============================] - 0s 1ms/step - loss: 0.1401 - acc: 0.9556 - val_loss: 0.2157 - val_acc: 0.9600\n",
      "Epoch 6/100\n",
      "225/225 [==============================] - 0s 1ms/step - loss: 0.1304 - acc: 0.9556 - val_loss: 0.1828 - val_acc: 0.9600\n",
      "Epoch 7/100\n",
      "225/225 [==============================] - 0s 1ms/step - loss: 0.2177 - acc: 0.9556 - val_loss: 0.2803 - val_acc: 0.9600\n",
      "Epoch 8/100\n",
      "225/225 [==============================] - 0s 1ms/step - loss: 0.2349 - acc: 0.9556 - val_loss: 0.1848 - val_acc: 0.9600\n",
      "Epoch 9/100\n",
      "225/225 [==============================] - 0s 1ms/step - loss: 0.1292 - acc: 0.9556 - val_loss: 0.2134 - val_acc: 0.9600\n",
      "Epoch 10/100\n",
      "225/225 [==============================] - 0s 1ms/step - loss: 0.1350 - acc: 0.9556 - val_loss: 0.2284 - val_acc: 0.9600\n",
      "Epoch 11/100\n",
      "225/225 [==============================] - 0s 1ms/step - loss: 0.1280 - acc: 0.9556 - val_loss: 0.1926 - val_acc: 0.9600\n",
      "Epoch 12/100\n",
      "225/225 [==============================] - 0s 1ms/step - loss: 0.1071 - acc: 0.9556 - val_loss: 0.1675 - val_acc: 0.9600\n",
      "Epoch 13/100\n",
      "225/225 [==============================] - 0s 1ms/step - loss: 0.0972 - acc: 0.9556 - val_loss: 0.1614 - val_acc: 0.9600\n",
      "Epoch 14/100\n",
      "225/225 [==============================] - 0s 1ms/step - loss: 0.0936 - acc: 0.9556 - val_loss: 0.1632 - val_acc: 0.9600\n",
      "Epoch 15/100\n",
      "225/225 [==============================] - 0s 1ms/step - loss: 0.0915 - acc: 0.9556 - val_loss: 0.1385 - val_acc: 0.9600\n",
      "Epoch 16/100\n",
      "225/225 [==============================] - 0s 1ms/step - loss: 0.0854 - acc: 0.9556 - val_loss: 0.1068 - val_acc: 0.9600\n",
      "Epoch 17/100\n",
      "225/225 [==============================] - 0s 1ms/step - loss: 0.0824 - acc: 0.9556 - val_loss: 0.1101 - val_acc: 0.9600\n",
      "Epoch 18/100\n",
      "225/225 [==============================] - 0s 1ms/step - loss: 0.0797 - acc: 0.9556 - val_loss: 0.1266 - val_acc: 0.9600\n",
      "Epoch 19/100\n",
      "225/225 [==============================] - 0s 1ms/step - loss: 0.0760 - acc: 0.9556 - val_loss: 0.1066 - val_acc: 0.9600\n",
      "Epoch 20/100\n",
      "225/225 [==============================] - 0s 1ms/step - loss: 0.0730 - acc: 0.9556 - val_loss: 0.1047 - val_acc: 0.9600\n",
      "Epoch 21/100\n",
      "225/225 [==============================] - 0s 1ms/step - loss: 0.0702 - acc: 0.9556 - val_loss: 0.1160 - val_acc: 0.9600\n",
      "Epoch 22/100\n",
      "225/225 [==============================] - 0s 1ms/step - loss: 0.0695 - acc: 0.9556 - val_loss: 0.0977 - val_acc: 0.9600\n",
      "Epoch 23/100\n",
      "225/225 [==============================] - 0s 1ms/step - loss: 0.0655 - acc: 0.9556 - val_loss: 0.1063 - val_acc: 0.9600\n",
      "Epoch 24/100\n",
      "225/225 [==============================] - 0s 1ms/step - loss: 0.0630 - acc: 0.9556 - val_loss: 0.0982 - val_acc: 0.9600\n",
      "Epoch 25/100\n",
      "225/225 [==============================] - 0s 1ms/step - loss: 0.0591 - acc: 0.9556 - val_loss: 0.0802 - val_acc: 0.9600\n",
      "Epoch 26/100\n",
      "225/225 [==============================] - 0s 1ms/step - loss: 0.0582 - acc: 0.9556 - val_loss: 0.0964 - val_acc: 0.9600\n",
      "Epoch 27/100\n",
      "225/225 [==============================] - 0s 1ms/step - loss: 0.0562 - acc: 0.9556 - val_loss: 0.0953 - val_acc: 0.9600\n",
      "Epoch 28/100\n",
      "225/225 [==============================] - 0s 1ms/step - loss: 0.0520 - acc: 0.9556 - val_loss: 0.0909 - val_acc: 0.9600\n",
      "Epoch 29/100\n",
      "225/225 [==============================] - 0s 1ms/step - loss: 0.0491 - acc: 0.9556 - val_loss: 0.0945 - val_acc: 0.9600\n",
      "Epoch 30/100\n",
      "225/225 [==============================] - 0s 1ms/step - loss: 0.0467 - acc: 0.9556 - val_loss: 0.0947 - val_acc: 0.9600\n",
      "Epoch 31/100\n",
      "225/225 [==============================] - 0s 1ms/step - loss: 0.0475 - acc: 0.9556 - val_loss: 0.0790 - val_acc: 0.9600\n",
      "Epoch 32/100\n",
      "225/225 [==============================] - 0s 1ms/step - loss: 0.0457 - acc: 0.9556 - val_loss: 0.0791 - val_acc: 0.9600\n",
      "Epoch 33/100\n",
      "225/225 [==============================] - 0s 1ms/step - loss: 0.0443 - acc: 0.9556 - val_loss: 0.0854 - val_acc: 0.9600\n",
      "Epoch 34/100\n",
      "225/225 [==============================] - 0s 1ms/step - loss: 0.0421 - acc: 0.9822 - val_loss: 0.0867 - val_acc: 0.9600\n",
      "Epoch 35/100\n",
      "225/225 [==============================] - 0s 1ms/step - loss: 0.0409 - acc: 0.9689 - val_loss: 0.0872 - val_acc: 0.9600\n",
      "Epoch 36/100\n",
      "225/225 [==============================] - 0s 1ms/step - loss: 0.0379 - acc: 0.9911 - val_loss: 0.0976 - val_acc: 0.9600\n",
      "Epoch 37/100\n",
      "225/225 [==============================] - 0s 1ms/step - loss: 0.0368 - acc: 0.9644 - val_loss: 0.0838 - val_acc: 0.9600\n",
      "Epoch 38/100\n",
      "225/225 [==============================] - 0s 1ms/step - loss: 0.0357 - acc: 0.9956 - val_loss: 0.0935 - val_acc: 0.9600\n",
      "Epoch 39/100\n",
      "225/225 [==============================] - 0s 1ms/step - loss: 0.0356 - acc: 0.9911 - val_loss: 0.1017 - val_acc: 0.9600\n",
      "Epoch 40/100\n",
      "225/225 [==============================] - 0s 1ms/step - loss: 0.0356 - acc: 0.9778 - val_loss: 0.0643 - val_acc: 0.9600\n",
      "Epoch 41/100\n",
      "225/225 [==============================] - 0s 1ms/step - loss: 0.0382 - acc: 1.0000 - val_loss: 0.0749 - val_acc: 0.9600\n",
      "Epoch 42/100\n",
      "225/225 [==============================] - 0s 1ms/step - loss: 0.0353 - acc: 0.9822 - val_loss: 0.1088 - val_acc: 0.9600\n",
      "Epoch 43/100\n",
      "225/225 [==============================] - 0s 1ms/step - loss: 0.0331 - acc: 0.9867 - val_loss: 0.0910 - val_acc: 0.9600\n",
      "Epoch 44/100\n",
      "225/225 [==============================] - 0s 1ms/step - loss: 0.0327 - acc: 1.0000 - val_loss: 0.1109 - val_acc: 0.9600\n",
      "Epoch 45/100\n",
      "225/225 [==============================] - 0s 1ms/step - loss: 0.0329 - acc: 0.9867 - val_loss: 0.1004 - val_acc: 0.9600\n",
      "Epoch 46/100\n",
      "225/225 [==============================] - 0s 1ms/step - loss: 0.0333 - acc: 1.0000 - val_loss: 0.0989 - val_acc: 0.9600\n",
      "Epoch 47/100\n",
      "225/225 [==============================] - 0s 1ms/step - loss: 0.0324 - acc: 0.9956 - val_loss: 0.1264 - val_acc: 0.9600\n",
      "Epoch 48/100\n",
      "225/225 [==============================] - 0s 1ms/step - loss: 0.0320 - acc: 0.9956 - val_loss: 0.1162 - val_acc: 0.9600\n",
      "Epoch 49/100\n",
      "225/225 [==============================] - 0s 1ms/step - loss: 0.0317 - acc: 0.9956 - val_loss: 0.1146 - val_acc: 0.9600\n",
      "Epoch 50/100\n",
      "225/225 [==============================] - 0s 1ms/step - loss: 0.0316 - acc: 1.0000 - val_loss: 0.1286 - val_acc: 0.9600\n",
      "\n",
      "Saved: TrainedModel_AllHits_AbsoluteCharge.h5\n"
     ]
    }
   ],
   "source": [
    "### Train classifier ###\n",
    "\n",
    "# Checkpoint model architecture + parameters\n",
    "model_checkpoint_name = 'TrainedModel_'+datafilename[:-16].replace('/','_')+'.h5'\n",
    "model_checkpoint = ModelCheckpoint(model_checkpoint_name, monitor='val_loss', save_best_only=True, \n",
    "                                   save_weights_only=False, mode='auto', period=1)\n",
    "# Fit model\n",
    "history = model.fit(images_train,\n",
    "                    keras.utils.to_categorical( eval(\"df_train\"+signalstring) ), \n",
    "                    epochs = epochs_number, \n",
    "                    callbacks = [early_stopping], \n",
    "                    validation_split = 0.1) # fraction of training sample used for testing (here 10%)\n",
    "# Save model (again)\n",
    "model.save(model_checkpoint_name)\n",
    "print \"\\nSaved:\",model_checkpoint_name"
   ]
  },
  {
   "cell_type": "code",
   "execution_count": 6,
   "metadata": {},
   "outputs": [
    {
     "data": {
      "image/png": "[encoded data removed]",
      "text/plain": [
       "<Figure size 1080x720 with 2 Axes>"
      ]
     },
     "metadata": {
      "needs_background": "light"
     },
     "output_type": "display_data"
    }
   ],
   "source": [
    "## loss vs epoch and acc vs epoch plots ##\n",
    "\n",
    "# plot loss vs epoch\n",
    "plt.figure(figsize=(15,10))\n",
    "ax = plt.subplot(2, 2, 1)\n",
    "ax.plot(history.history['loss'], label='Training')\n",
    "ax.plot(history.history['val_loss'], label='Validation')\n",
    "ax.legend(loc=\"upper right\")\n",
    "ax.set_xlabel('Epoch')\n",
    "ax.set_ylabel('Loss function')\n",
    "ax.set_title(\"Loss Function vs Epoch\")\n",
    "pylab.ylim([0,0.8])\n",
    "\n",
    "# plot accuracy vs epoch\n",
    "ax = plt.subplot(2, 2, 2)\n",
    "ax.plot(history.history['acc'], label='Training')\n",
    "ax.plot(history.history['val_acc'], label='Validation')\n",
    "ax.legend(loc=\"upper left\")\n",
    "ax.set_xlabel('Epoch')\n",
    "ax.set_ylabel('Accuracy')\n",
    "ax.set_title(\"Accuracy vs Epoch\")\n",
    "pylab.ylim([0,1])\n",
    "\n",
    "plt.plot();"
   ]
  },
  {
   "cell_type": "code",
   "execution_count": 7,
   "metadata": {},
   "outputs": [
    {
     "data": {
      "image/png": "[encoded data removed]",
      "text/plain": [
       "<Figure size 432x288 with 1 Axes>"
      ]
     },
     "metadata": {
      "needs_background": "light"
     },
     "output_type": "display_data"
    }
   ],
   "source": [
    "## ROC curve ##\n",
    "\n",
    "ret = model.predict(images_test)\n",
    "fpr_keras, tpr_keras, thresholds_keras = roc_curve(keras.utils.to_categorical( eval(\"df_test\"+signalstring) )[:,1], ret[:,1])\n",
    "from sklearn.metrics import auc\n",
    "auc_keras = auc(fpr_keras, tpr_keras)\n",
    "auc = np.trapz(tpr_keras,fpr_keras)\n",
    "\n",
    "plt.figure(1)\n",
    "plt.plot(fpr_keras, tpr_keras, label='Keras (area = {:.3f})'.format(auc))\n",
    "plt.xlabel('False positive rate')\n",
    "plt.ylabel('True positive rate')\n",
    "plt.title('ROC Curve (area = {:.3f})'.format(auc))\n",
    "plt.show()"
   ]
  }
 ],
 "metadata": {
  "kernelspec": {
   "display_name": "Python 2",
   "language": "python",
   "name": "python2"
  },
  "language_info": {
   "codemirror_mode": {
    "name": "ipython",
    "version": 2
   },
   "file_extension": ".py",
   "mimetype": "text/x-python",
   "name": "python",
   "nbconvert_exporter": "python",
   "pygments_lexer": "ipython2",
   "version": "2.7.15+"
  }
 },
 "nbformat": 4,
 "nbformat_minor": 2
}
