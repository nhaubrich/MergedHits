{
 "cells": [
  {
   "cell_type": "code",
   "execution_count": 1,
   "metadata": {},
   "outputs": [
    {
     "name": "stderr",
     "output_type": "stream",
     "text": [
      "Using TensorFlow backend.\n"
     ]
    }
   ],
   "source": [
    "## Preliminaries ##\n",
    "\n",
    "# Import libraries\n",
    "import pylab\n",
    "import keras\n",
    "import tensorflow as tf\n",
    "import matplotlib.pyplot as plt\n",
    "import numpy as np\n",
    "import pandas as pd\n",
    "from keras.layers import Dense, Dropout, Activation\n",
    "from keras.callbacks import EarlyStopping, ModelCheckpoint\n",
    "from keras.models import load_model\n",
    "from sklearn.metrics import roc_auc_score, roc_curve, auc\n",
    "from sklearn.model_selection import train_test_split\n",
    "from scipy.stats.stats import pearsonr\n",
    "%matplotlib inline\n",
    "\n",
    "# Define to_image function\n",
    "pixels = [\"pixel_{0}\".format(i) for i in range(400)] # 20*20 = 400\n",
    "def to_image(df):\n",
    "    return  np.expand_dims(np.expand_dims(df[pixels], axis=-1).reshape(-1,20,20), axis=-1)"
   ]
  },
  {
   "cell_type": "code",
   "execution_count": 2,
   "metadata": {},
   "outputs": [
    {
     "name": "stdout",
     "output_type": "stream",
     "text": [
      "\u001b[1mAllHits/AbsoluteCharge\u001b[0m\n",
      "<class 'pandas.core.frame.DataFrame'>\n",
      "Int64Index: 411064 entries, 0 to 411063\n",
      "Columns: 407 entries, pixel_78 to pixel_148\n",
      "dtypes: float64(405), int32(1), int64(1)\n",
      "memory usage: 1.2 GB\n",
      "None\n"
     ]
    }
   ],
   "source": [
    "## Import the data ##\n",
    "\n",
    "# List file names\n",
    "datafilenames = [\"SharedHits/NormalizedCharge/output_final.h5\",\"SharedHits/AbsoluteCharge/output_final.h5\",\n",
    "                \"Shared100NonShared/NormalizedCharge/output_final.h5\",\"Shared100NonShared/AbsoluteCharge/output_final.h5\",\n",
    "                \"AllHits/NormalizedCharge/output_final.h5\",\"AllHits/AbsoluteCharge/output_final.h5\"]\n",
    "\n",
    "# Select file you want to use\n",
    "filenumber = 5\n",
    "datafilename = datafilenames[filenumber]\n",
    "\n",
    "# Import data\n",
    "df = pd.read_hdf(\"/uscms_data/d3/bbonham/TrackerProject/TrackingDstar/LambaAnalyzer/output_of_postprocess/\"+datafilename, \n",
    "                 key=\"df\", mode='r')\n",
    "\n",
    "# Print dataframe info\n",
    "print '\\033[1m' + datafilename[:-16] + '\\033[0m' # name printed in bold\n",
    "print df.info()\n",
    "\n",
    "# Signal Region if you choose a file with only shared hits\n",
    "if filenumber == 0 or filenumber == 1:\n",
    "    signalstring = \"['nUniqueSimTracksInSharedHit']>1\"\n",
    "# Signal Region if you choose a file with shared and nonshared hits\n",
    "if filenumber in [2,3,4,5]:\n",
    "    #signalstring = \"['isSharedHit']==1\"\n",
    "    signalstring = \"['nUniqueSimTracksInSharedHit']>1\""
   ]
  },
  {
   "cell_type": "code",
   "execution_count": 3,
   "metadata": {},
   "outputs": [],
   "source": [
    "## CNN ##\n",
    "# Adding layers to Neural Network: (1) is convolutional,(1.5) 2D layer ,(2) flatten output then feed it to (3) which is a regular neural network.\n",
    "# (4) drops nodes in NN to avoid overfitting, finallly (5) outputs 2 values (prob(notmergedhit), prob(merged hit)), must add up to 1.\n",
    "\n",
    "# Define the network\n",
    "model = keras.models.Sequential()\n",
    "\n",
    "#layer (1) you can play with these layers individually or together until you find the best combination\n",
    "model.add(keras.layers.Conv2D(32, kernel_size=(8,8), padding='same', activation='relu', input_shape=(20,20,1), data_format = \"channels_last\"))\n",
    "model.add(keras.layers.Conv2D(32, kernel_size=(4,4), padding='same', activation='relu')) \n",
    "#model.add(keras.layers.Conv2D(16, kernel_size=(2,2), padding='same', activation='relu'))\n",
    "#model.add(keras.layers.Conv2D(16, kernel_size=(3,3), padding='same', activation='relu'))\n",
    "#model.add(keras.layers.Conv2D(16, kernel_size=(1,1), padding='same', activation='relu'))\n",
    "\n",
    "# layer (X): max pooling 2D, has always been commented out, but you can uncomment it and see what it does\n",
    "#model.add(keras.layers.MaxPooling2D(pool_size=(2, 2), padding='same', data_format=\"channels_last\"))\n",
    "\n",
    "# layer (2)\n",
    "model.add(keras.layers.Flatten(input_shape=(20,20,1))) # 20,20\n",
    "\n",
    "# layer 2.5, dropout 10%\n",
    "model.add(Dropout(0.1))\n",
    "\n",
    "# layer (3)\n",
    "model.add(keras.layers.Dense(100, activation='relu'))\n",
    "\n",
    "#layer (4)\n",
    "model.add(keras.layers.Dense(2, activation='softmax'))\n",
    "                                                    \n",
    "# Layer (5), train the network\n",
    "model.compile(loss='categorical_crossentropy', optimizer=\"adam\", metrics = [\"accuracy\"]) \n",
    "\n",
    "# Number of times you run the CNN\n",
    "epochs_number = 100 \n",
    "\n",
    "# Stop training early to prevent overtraining\n",
    "early_stopping = EarlyStopping(monitor='val_loss', patience=10) "
   ]
  },
  {
   "cell_type": "code",
   "execution_count": 4,
   "metadata": {},
   "outputs": [
    {
     "name": "stdout",
     "output_type": "stream",
     "text": [
      "Test Data Shape:  (205532, 407)\n",
      "Train Data Shape:  (205532, 407)\n"
     ]
    }
   ],
   "source": [
    "## Set the train-test split ##\n",
    "\n",
    "# Must be the same integer as when you trained the model. Always 10 for me. \n",
    "# Alternatively, you could save df_train and load it, but I chose to do it with a consistent seed instead. \n",
    "train_test_seed = 10 \n",
    "df_train,df_test = train_test_split(df,test_size=0.5,random_state=train_test_seed)\n",
    "images_train = to_image(df_train)\n",
    "images_test = to_image(df_test)\n",
    "\n",
    "# Sanity check: Printout (events, variables). Variables include 400 pixels, and a few others you can find using df.info()\n",
    "print \"Test Data Shape: \",df_test.shape\n",
    "print \"Train Data Shape: \",df_train.shape"
   ]
  },
  {
   "cell_type": "code",
   "execution_count": 5,
   "metadata": {
    "scrolled": false
   },
   "outputs": [
    {
     "name": "stdout",
     "output_type": "stream",
     "text": [
      "Train on 184978 samples, validate on 20554 samples\n",
      "Epoch 1/100\n",
      "184978/184978 [==============================] - 659s 4ms/step - loss: 0.1136 - acc: 0.9619 - val_loss: 0.1027 - val_acc: 0.9648\n",
      "Epoch 2/100\n",
      "184978/184978 [==============================] - 391s 2ms/step - loss: 0.0976 - acc: 0.9657 - val_loss: 0.0956 - val_acc: 0.9658\n",
      "Epoch 3/100\n",
      "184978/184978 [==============================] - 333s 2ms/step - loss: 0.0918 - acc: 0.9675 - val_loss: 0.0892 - val_acc: 0.9682\n",
      "Epoch 4/100\n",
      "184978/184978 [==============================] - 333s 2ms/step - loss: 0.0874 - acc: 0.9693 - val_loss: 0.0864 - val_acc: 0.9677\n",
      "Epoch 5/100\n",
      "184978/184978 [==============================] - 337s 2ms/step - loss: 0.0839 - acc: 0.9708 - val_loss: 0.0844 - val_acc: 0.9683\n",
      "Epoch 6/100\n",
      "184978/184978 [==============================] - 336s 2ms/step - loss: 0.0809 - acc: 0.9720 - val_loss: 0.0828 - val_acc: 0.9695\n",
      "Epoch 7/100\n",
      "184978/184978 [==============================] - 333s 2ms/step - loss: 0.0785 - acc: 0.9731 - val_loss: 0.0841 - val_acc: 0.9708\n",
      "Epoch 8/100\n",
      "184978/184978 [==============================] - 333s 2ms/step - loss: 0.0760 - acc: 0.9740 - val_loss: 0.0840 - val_acc: 0.9703\n",
      "Epoch 9/100\n",
      "184978/184978 [==============================] - 333s 2ms/step - loss: 0.0736 - acc: 0.9749 - val_loss: 0.0883 - val_acc: 0.9698\n",
      "Epoch 10/100\n",
      "184978/184978 [==============================] - 332s 2ms/step - loss: 0.0719 - acc: 0.9758 - val_loss: 0.0845 - val_acc: 0.9711\n",
      "Epoch 11/100\n",
      "184978/184978 [==============================] - 332s 2ms/step - loss: 0.0702 - acc: 0.9763 - val_loss: 0.0884 - val_acc: 0.9715\n",
      "Epoch 12/100\n",
      "184978/184978 [==============================] - 333s 2ms/step - loss: 0.0690 - acc: 0.9768 - val_loss: 0.0859 - val_acc: 0.9726\n",
      "Epoch 13/100\n",
      "184978/184978 [==============================] - 334s 2ms/step - loss: 0.0672 - acc: 0.9774 - val_loss: 0.0913 - val_acc: 0.9712\n",
      "Epoch 14/100\n",
      "184978/184978 [==============================] - 332s 2ms/step - loss: 0.0662 - acc: 0.9778 - val_loss: 0.0923 - val_acc: 0.9724\n",
      "Epoch 15/100\n",
      "184978/184978 [==============================] - 333s 2ms/step - loss: 0.0650 - acc: 0.9783 - val_loss: 0.0890 - val_acc: 0.9718\n",
      "Epoch 16/100\n",
      "184978/184978 [==============================] - 333s 2ms/step - loss: 0.0645 - acc: 0.9787 - val_loss: 0.0907 - val_acc: 0.9722\n",
      "\n",
      "Saved: TrainedModel_AllHits_AbsoluteCharge.h5\n"
     ]
    }
   ],
   "source": [
    "### Train classifier ###\n",
    "\n",
    "# Checkpoint model architecture + parameters\n",
    "model_checkpoint_name = 'TrainedModel_'+datafilename[:-16].replace('/','_')+'.h5'\n",
    "model_checkpoint = ModelCheckpoint(model_checkpoint_name, monitor='val_loss', save_best_only=True, \n",
    "                                   save_weights_only=False, mode='auto', period=1)\n",
    "# Fit model\n",
    "history = model.fit(images_train,\n",
    "                    keras.utils.to_categorical( eval(\"df_train\"+signalstring) ), \n",
    "                    epochs = epochs_number, \n",
    "                    callbacks = [early_stopping, model_checkpoint], \n",
    "                    validation_split = 0.1) # fraction of training sample used for testing (here 10%)\n",
    "# Save model (again)\n",
    "model.save(model_checkpoint_name)\n",
    "print \"\\nSaved:\",model_checkpoint_name"
   ]
  },
  {
   "cell_type": "code",
   "execution_count": 6,
   "metadata": {},
   "outputs": [
    {
     "data": {
      "image/png": "[encoded data removed]",
      "text/plain": [
       "<Figure size 1080x720 with 2 Axes>"
      ]
     },
     "metadata": {
      "needs_background": "light"
     },
     "output_type": "display_data"
    }
   ],
   "source": [
    "## loss vs epoch and acc vs epoch plots ##\n",
    "\n",
    "# plot loss vs epoch\n",
    "plt.figure(figsize=(15,10))\n",
    "ax = plt.subplot(2, 2, 1)\n",
    "ax.plot(history.history['loss'], label='Training')\n",
    "ax.plot(history.history['val_loss'], label='Validation')\n",
    "ax.legend(loc=\"upper right\")\n",
    "ax.set_xlabel('Epoch')\n",
    "ax.set_ylabel('Loss function')\n",
    "ax.set_title(\"Loss Function vs Epoch\")\n",
    "pylab.ylim([0,0.8])\n",
    "\n",
    "# plot accuracy vs epoch\n",
    "ax = plt.subplot(2, 2, 2)\n",
    "ax.plot(history.history['acc'], label='Training')\n",
    "ax.plot(history.history['val_acc'], label='Validation')\n",
    "ax.legend(loc=\"upper left\")\n",
    "ax.set_xlabel('Epoch')\n",
    "ax.set_ylabel('Accuracy')\n",
    "ax.set_title(\"Accuracy vs Epoch\")\n",
    "pylab.ylim([0,1])\n",
    "\n",
    "plt.plot();"
   ]
  },
  {
   "cell_type": "code",
   "execution_count": 7,
   "metadata": {},
   "outputs": [
    {
     "data": {
      "image/png": "[encoded data removed]",
      "text/plain": [
       "<Figure size 432x288 with 1 Axes>"
      ]
     },
     "metadata": {
      "needs_background": "light"
     },
     "output_type": "display_data"
    }
   ],
   "source": [
    "## ROC curve ##\n",
    "\n",
    "ret = model.predict(images_test)\n",
    "fpr_keras, tpr_keras, thresholds_keras = roc_curve(keras.utils.to_categorical( eval(\"df_test\"+signalstring) )[:,1], ret[:,1])\n",
    "from sklearn.metrics import auc\n",
    "auc_keras = auc(fpr_keras, tpr_keras)\n",
    "auc = np.trapz(tpr_keras,fpr_keras)\n",
    "\n",
    "plt.figure(1)\n",
    "plt.plot(fpr_keras, tpr_keras, label='Keras (area = {:.3f})'.format(auc))\n",
    "plt.xlabel('False positive rate')\n",
    "plt.ylabel('True positive rate')\n",
    "plt.title('ROC Curve (area = {:.3f})'.format(auc))\n",
    "plt.show()"
   ]
  }
 ],
 "metadata": {
  "kernelspec": {
   "display_name": "Python 2",
   "language": "python",
   "name": "python2"
  },
  "language_info": {
   "codemirror_mode": {
    "name": "ipython",
    "version": 2
   },
   "file_extension": ".py",
   "mimetype": "text/x-python",
   "name": "python",
   "nbconvert_exporter": "python",
   "pygments_lexer": "ipython2",
   "version": "2.7.15+"
  }
 },
 "nbformat": 4,
 "nbformat_minor": 2
}
