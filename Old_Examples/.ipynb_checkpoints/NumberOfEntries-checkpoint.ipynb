{
 "cells": [
  {
   "cell_type": "code",
   "execution_count": 7,
   "metadata": {},
   "outputs": [
    {
     "name": "stderr",
     "output_type": "stream",
     "text": [
      "Using TensorFlow backend.\n"
     ]
    }
   ],
   "source": [
    "# Import Libraries\n",
    "import keras\n",
    "from keras.layers import Dense, Dropout, Activation\n",
    "from keras.callbacks import EarlyStopping\n",
    "from keras.callbacks import ModelCheckpoint\n",
    "import tensorflow as tf\n",
    "import numpy as np\n",
    "from sklearn.metrics import roc_auc_score\n",
    "from sklearn.metrics import roc_curve\n",
    "from sklearn.metrics import auc\n",
    "from IPython.display import FileLink, FileLinks\n",
    "import matplotlib.pyplot as plt\n",
    "import pandas as pd\n",
    "import sys\n",
    "import os\n",
    "import pylab\n",
    "from scipy.stats.stats import pearsonr"
   ]
  },
  {
   "cell_type": "code",
   "execution_count": 63,
   "metadata": {},
   "outputs": [
    {
     "name": "stdout",
     "output_type": "stream",
     "text": [
      "\n",
      "\u001b[1mAllHits/AbsoluteCharge\u001b[0m\n",
      "<class 'pandas.core.frame.DataFrame'>\n",
      "Int64Index: 1105345 entries, 0 to 1105344\n",
      "Columns: 407 entries, pixel_78 to pixel_148\n",
      "dtypes: float32(1), float64(405), int32(1)\n",
      "memory usage: 3.4 GB\n",
      "None\n",
      "\n",
      "\u001b[1mAllHits/AbsoluteCharge\u001b[0m\n",
      "<class 'pandas.core.frame.DataFrame'>\n",
      "Int64Index: 220274 entries, 4 to 1105338\n",
      "Columns: 408 entries, Pixel_number to pixel_148\n",
      "dtypes: float32(1), float64(405), int32(1), int64(1)\n",
      "memory usage: 685.7 MB\n",
      "None\n",
      "\n"
     ]
    }
   ],
   "source": [
    "### Choose one file, make cuts, and print the number of samples to train on\n",
    "\n",
    "datafilenames = [\"SharedHits/NormalizedCharge/output_final_1.h5\",\"SharedHits/AbsoluteCharge/output_final_1.h5\",\n",
    "                \"Shared100NonShared/NormalizedCharge/output_final_1.h5\",\"Shared100NonShared/AbsoluteCharge/output_final_1.h5\",\n",
    "                \"AllHits/NormalizedCharge/output_final_1.h5\",\"AllHits/AbsoluteCharge/output_final_1.h5\"]\n",
    "\n",
    "counter = 5\n",
    "\n",
    "datafilename = datafilenames[counter]\n",
    "\n",
    "numentries = 10000\n",
    "\n",
    "# Import the data\n",
    "df = pd.read_hdf(\"/uscms_data/d3/bbonham/TrackingDstar/LambaAnalyzer/output_of_postprocess/\"+datafilename, key=\"df\", mode='r')\n",
    "\n",
    "# Setup different cuts for different data\n",
    "if counter == 0 or counter == 1: # Shared Hits\n",
    "    cuttitle = \"nUniqueSimTracksInSharedHit >= 0\"\n",
    "    stringforcut = \"(df['nUniqueSimTracksInSharedHit']>=0)\"\n",
    "if counter == 2 or counter == 3: # Shared100NonShared Hits\n",
    "    cuttitle = \"nUniqueSimTracksInSharedHit != (0|1)\"\n",
    "    stringforcut = '(df[\"nUniqueSimTracksInSharedHit\"]!=0) & (df[\"nUniqueSimTracksInSharedHit\"]!=1)'\n",
    "if counter == 4 or counter == 5: # All Hits\n",
    "    cuttitle = \"nUniqueSimTracksInSharedHit != (0|1)\"\n",
    "    stringforcut = '(df[\"nUniqueSimTracksInSharedHit\"]!=0) & (df[\"nUniqueSimTracksInSharedHit\"]!=1)'\n",
    "\n",
    "# Print info on dataframe\n",
    "print \"\"\n",
    "print '\\033[1m' + datafilename[:-18] + '\\033[0m' # name printed in bold\n",
    "print df.info()\n",
    "print \"\"\n",
    "\n",
    "## Make Cuts ##\n",
    "\n",
    "# Compute the pixel_number variable\n",
    "pixelColumns = [\"pixel_%i\" % x for x in range(400)]\n",
    "pixels_df = df[pixelColumns].values\n",
    "pixel_number = pixels_df.astype(bool).sum(axis=1)\n",
    "df.insert(0, \"Pixel_number\", pixel_number)\n",
    "\n",
    "# Make final cuts\n",
    "df = df[df[\"Pixel_number\"]>1] # ensure > 1 pixel is involved\n",
    "df = df[(df[\"GenDeltaR\"]<0.1)]\n",
    "df = df[eval(stringforcut)]\n",
    "\n",
    "# Print info on dataframe\n",
    "print '\\033[1m' + datafilename[:-18] + '\\033[0m' # name printed in bold\n",
    "print df.info()\n",
    "print \"\""
   ]
  },
  {
   "cell_type": "code",
   "execution_count": 65,
   "metadata": {},
   "outputs": [
    {
     "name": "stdout",
     "output_type": "stream",
     "text": [
      "685.7 MB\n",
      "train on 99123 samples\n",
      "validate on 11014 samples\n"
     ]
    }
   ],
   "source": [
    "print round(df.memory_usage().sum()/1024./1024.,1),\"MB\"\n",
    "print \"train on\",int(round((df.shape[0]/2.)*.9)),\"samples\"\n",
    "print \"validate on\",int(round((df.shape[0]/2.)*.1)),\"samples\""
   ]
  }
 ],
 "metadata": {
  "kernelspec": {
   "display_name": "Python 2",
   "language": "python",
   "name": "python2"
  },
  "language_info": {
   "codemirror_mode": {
    "name": "ipython",
    "version": 2
   },
   "file_extension": ".py",
   "mimetype": "text/x-python",
   "name": "python",
   "nbconvert_exporter": "python",
   "pygments_lexer": "ipython2",
   "version": "2.7.15+"
  }
 },
 "nbformat": 4,
 "nbformat_minor": 2
}
