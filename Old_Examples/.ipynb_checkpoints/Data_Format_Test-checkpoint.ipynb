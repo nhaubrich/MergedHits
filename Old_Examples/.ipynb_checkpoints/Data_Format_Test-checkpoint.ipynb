{
 "cells": [
  {
   "cell_type": "code",
   "execution_count": 1,
   "metadata": {},
   "outputs": [
    {
     "data": {
      "text/html": [
       "<style>.container { width:100% !important; }</style>"
      ],
      "text/plain": [
       "<IPython.core.display.HTML object>"
      ]
     },
     "metadata": {},
     "output_type": "display_data"
    }
   ],
   "source": [
    "# Set the display width to max\n",
    "from IPython.core.display import display, HTML\n",
    "display(HTML(\"<style>.container { width:100% !important; }</style>\"))"
   ]
  },
  {
   "cell_type": "code",
   "execution_count": 3,
   "metadata": {
    "scrolled": false
   },
   "outputs": [
    {
     "name": "stdout",
     "output_type": "stream",
     "text": [
      "<class 'pandas.core.frame.DataFrame'>\n",
      "Int64Index: 10000 entries, 0 to 9999\n",
      "Columns: 406 entries, pixel_78 to pixel_148\n",
      "dtypes: float64(405), int32(1)\n",
      "memory usage: 31.0 MB\n",
      "None\n",
      "Train on 54 samples, validate on 6 samples\n",
      "Epoch 1/100\n",
      "54/54 [==============================] - 1s 17ms/step - loss: 0.6964 - acc: 0.4815 - val_loss: 0.6896 - val_acc: 0.6667\n",
      "Epoch 2/100\n",
      "54/54 [==============================] - 0s 3ms/step - loss: 0.6857 - acc: 0.5926 - val_loss: 0.6821 - val_acc: 0.6667\n",
      "Epoch 3/100\n",
      "54/54 [==============================] - 0s 4ms/step - loss: 0.6732 - acc: 0.5926 - val_loss: 0.6630 - val_acc: 0.6667\n",
      "Epoch 4/100\n",
      "54/54 [==============================] - 0s 4ms/step - loss: 0.6595 - acc: 0.5926 - val_loss: 0.6502 - val_acc: 0.6667\n",
      "Epoch 5/100\n",
      "54/54 [==============================] - 0s 4ms/step - loss: 0.6309 - acc: 0.5926 - val_loss: 0.6548 - val_acc: 0.6667\n",
      "Epoch 6/100\n",
      "54/54 [==============================] - 0s 4ms/step - loss: 0.6188 - acc: 0.6296 - val_loss: 0.6528 - val_acc: 0.6667\n",
      "Epoch 7/100\n",
      "54/54 [==============================] - 0s 4ms/step - loss: 0.5917 - acc: 0.6296 - val_loss: 0.6410 - val_acc: 0.6667\n",
      "Epoch 8/100\n",
      "54/54 [==============================] - 0s 4ms/step - loss: 0.5632 - acc: 0.6667 - val_loss: 0.6412 - val_acc: 0.6667\n",
      "Epoch 9/100\n",
      "54/54 [==============================] - 0s 4ms/step - loss: 0.5487 - acc: 0.7222 - val_loss: 0.6439 - val_acc: 0.5000\n",
      "Epoch 10/100\n",
      "54/54 [==============================] - 0s 4ms/step - loss: 0.5095 - acc: 0.7593 - val_loss: 0.6404 - val_acc: 0.6667\n",
      "Epoch 11/100\n",
      "54/54 [==============================] - 0s 4ms/step - loss: 0.4889 - acc: 0.7037 - val_loss: 0.6412 - val_acc: 0.6667\n",
      "Epoch 12/100\n",
      "54/54 [==============================] - 0s 4ms/step - loss: 0.4587 - acc: 0.8148 - val_loss: 0.6577 - val_acc: 0.5000\n",
      "Epoch 13/100\n",
      "54/54 [==============================] - 0s 4ms/step - loss: 0.4298 - acc: 0.8704 - val_loss: 0.6526 - val_acc: 0.5000\n",
      "Epoch 14/100\n",
      "54/54 [==============================] - 0s 4ms/step - loss: 0.3929 - acc: 0.9074 - val_loss: 0.6667 - val_acc: 0.5000\n",
      "Epoch 15/100\n",
      "54/54 [==============================] - 0s 4ms/step - loss: 0.3887 - acc: 0.8333 - val_loss: 0.6761 - val_acc: 0.6667\n",
      "Epoch 16/100\n",
      "54/54 [==============================] - 0s 4ms/step - loss: 0.3369 - acc: 0.9259 - val_loss: 0.7285 - val_acc: 0.5000\n",
      "Epoch 17/100\n",
      "54/54 [==============================] - 0s 4ms/step - loss: 0.3291 - acc: 0.9074 - val_loss: 0.7014 - val_acc: 0.5000\n",
      "Epoch 18/100\n",
      "54/54 [==============================] - 0s 4ms/step - loss: 0.3036 - acc: 0.9074 - val_loss: 0.7124 - val_acc: 0.5000\n",
      "Epoch 19/100\n",
      "54/54 [==============================] - 0s 4ms/step - loss: 0.2767 - acc: 0.9259 - val_loss: 0.6929 - val_acc: 0.6667\n",
      "Epoch 20/100\n",
      "54/54 [==============================] - 0s 4ms/step - loss: 0.2472 - acc: 0.9259 - val_loss: 0.6834 - val_acc: 0.6667\n"
     ]
    },
    {
     "data": {
      "image/png": "[encoded data removed]",
      "text/plain": [
       "<Figure size 432x288 with 1 Axes>"
      ]
     },
     "metadata": {
      "needs_background": "light"
     },
     "output_type": "display_data"
    }
   ],
   "source": [
    "## Import Libraries ##\n",
    "import keras\n",
    "from keras.layers import Dense, Dropout, Activation\n",
    "from keras.callbacks import EarlyStopping\n",
    "from keras.callbacks import ModelCheckpoint\n",
    "import tensorflow as tf\n",
    "import numpy as np\n",
    "from sklearn.metrics import roc_auc_score\n",
    "from sklearn.metrics import roc_curve\n",
    "from sklearn.metrics import auc\n",
    "from IPython.display import FileLink, FileLinks\n",
    "import matplotlib.pyplot as plt\n",
    "import pandas as pd\n",
    "import sys\n",
    "import pylab\n",
    "from scipy.stats.stats import pearsonr\n",
    "\n",
    "## List data files ##\n",
    "datafilenames = [\"Shared100NonShared/NormalizedCharge/output_final_1.h5\",\"Shared100NonShared/AbsoluteCharge/output_final_1.h5\",\n",
    "                 \"SharedHits/NormalizedCharge/output_final_1.h5\",\"SharedHits/AbsoluteCharge/output_final_1.h5\",\n",
    "                \"AllHits/NormalizedCharge/output_final_1.h5\",\"AllHits/AbsoluteCharge/output_final_1.h5\"]\n",
    "\n",
    "## One image has 20x20 pixels = 400 pixels ##\n",
    "pixels = [\"pixel_{0}\".format(i) for i in range(20*20)]\n",
    "def to_image(df):\n",
    "    return  np.expand_dims(np.expand_dims(df[pixels], axis=-1).reshape(-1,20,20), axis=-1)\n",
    "\n",
    "## Import the data ##\n",
    "\n",
    "df = pd.read_hdf(\"/uscms_data/d3/bbonham/TrackingDstar/LambaAnalyzer/output_of_postprocess/\"+datafilenames[2], key=\"df\", mode='r')\n",
    "print '\\n \\033[1m' + datafilename[:-18] + '\\033[0m' # file name printed in bold\n",
    "print df.info()\n",
    "print \"\"\n",
    "\n",
    "## Last cuts and selections. Eventually this should be moved to the postprocessor. ##\n",
    "df = df[(df[\"GenDeltaR\"]<0.1) & (df[\"nUniqueSimTracksInSharedHit\"]>-1)] # this gets rid of shared hits as well\n",
    "\n",
    "# Data set before removing single pixel events\n",
    "df_old = df\n",
    "df_old_train=df.sample(frac=0.5)\n",
    "df_old_test=df.drop(df_old_train.index)\n",
    "images_old_train = to_image(df_old_train)\n",
    "images_old_test = to_image(df_old_test)\n",
    "\n",
    "# Removing events that have single pixel\n",
    "pixelColumns = [\"pixel_%i\" % x for x in range(400)]\n",
    "pixels_df = df[pixelColumns].values\n",
    "# This printout is a sanity check, there 400 pixels so we expect pixels_df to have 400 columns\n",
    "#print(pixels_df[0].shape)\n",
    "pixel_number = pixels_df.astype(bool).sum(axis=1)\n",
    "df.insert(0, \"Pixel_number\", pixel_number)\n",
    "# the df.info() printouts allows us to see how many events were removed.\n",
    "#print df.info()\n",
    "df = df[df[\"Pixel_number\"]>1]\n",
    "#print df.info()\n",
    "\n",
    "## frac=0.5 sets half training and half testing ##\n",
    "df_train = df.sample(frac=0.5)\n",
    "df_test = df.drop(df_train.index)\n",
    "images_train = to_image(df_train)\n",
    "images_test = to_image(df_test)\n",
    "\n",
    "## This is the CNN ##\n",
    "# Adding layers to Neural Network: (1) is convolutional,(1.5) 2D layer ,(2) flatten output then feed it to (3) which is a regular neural network.\n",
    "# (4) drops nodes in NN to avoid overfitting, finallly (5) outputs 2 values (prob(notmergedhit), prob(merged hit)), must add up to 1.\n",
    "\n",
    "# Define the network\n",
    "model = keras.models.Sequential()\n",
    "\n",
    "# layer (1) you can play with these layers individually or together until you find the best combination\n",
    "# Here at fnal you have to add input_shape and data_format in the first layer\n",
    "model.add(keras.layers.Conv2D(32, kernel_size=(8,8), padding='same', activation='relu', input_shape=(20,20,1), data_format = \"channels_last\"))\n",
    "model.add(keras.layers.Conv2D(32, kernel_size=(4,4), padding='same', activation='relu')) \n",
    "# layer (2)\n",
    "model.add(keras.layers.Flatten(input_shape=(20,20,1))) # 20,20\n",
    "# layer 2.5, dropout 10%\n",
    "model.add(Dropout(0.1))\n",
    "# layer (3)\n",
    "model.add(keras.layers.Dense(100, activation='relu'))\n",
    "#layer (4)\n",
    "model.add(keras.layers.Dense(2, activation='softmax'))                                                \n",
    "# Layer (5), train the network\n",
    "model.compile(loss='categorical_crossentropy', optimizer=\"adam\", metrics = [\"accuracy\"]) \n",
    "# epochs: number of times you run the CNN.\n",
    "epochs_number = 100\n",
    "# early stopping callback: stops training early to prevent overtraining\n",
    "early_stopping = EarlyStopping(monitor='val_loss', patience=10) \n",
    "# model checkpoint callback: this saves our model architecture + parameters into dense_model.h5\n",
    "model_checkpoint = ModelCheckpoint('CNN_model.h5', monitor='val_loss', \n",
    "                                   save_best_only=True, \n",
    "                                   save_weights_only=False, mode='auto', \n",
    "                                   period=1)\n",
    "\n",
    "# Train classifier\n",
    "history = model.fit(images_train,\n",
    "                    keras.utils.to_categorical(df_train[\"nUniqueSimTracksInSharedHit\"]>1), \n",
    "                    epochs = epochs_number, \n",
    "                    callbacks=[early_stopping, model_checkpoint], \n",
    "                    validation_split=0.1) # fraction of training sample used for testing (here 10%)\n",
    "\n",
    "# Plotting ROC Curve\n",
    "ret = model.predict(images_test)\n",
    "fpr_keras, tpr_keras, thresholds_keras = roc_curve(keras.utils.to_categorical(df_test[\"nUniqueSimTracksInSharedHit\"]>1)[:,1], ret[:,1])\n",
    "from sklearn.metrics import auc\n",
    "auc_keras = auc(fpr_keras, tpr_keras)\n",
    "auc = np.trapz(tpr_keras,fpr_keras)\n",
    "plt.figure(1)\n",
    "plt.plot(fpr_keras, tpr_keras, label='Keras (area = {:.3f})'.format(auc))\n",
    "plt.xlabel('False positive rate')\n",
    "plt.ylabel('True positive rate')\n",
    "plt.title('ROC Curve (area = {:.3f})'.format(auc))\n",
    "plt.show()"
   ]
  },
  {
   "cell_type": "code",
   "execution_count": null,
   "metadata": {},
   "outputs": [],
   "source": []
  }
 ],
 "metadata": {
  "kernelspec": {
   "display_name": "Python 2",
   "language": "python",
   "name": "python2"
  },
  "language_info": {
   "codemirror_mode": {
    "name": "ipython",
    "version": 2
   },
   "file_extension": ".py",
   "mimetype": "text/x-python",
   "name": "python",
   "nbconvert_exporter": "python",
   "pygments_lexer": "ipython2",
   "version": "2.7.15+"
  }
 },
 "nbformat": 4,
 "nbformat_minor": 4
}
